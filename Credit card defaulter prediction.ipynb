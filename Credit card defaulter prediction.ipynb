{
 "cells": [
  {
   "cell_type": "code",
   "execution_count": 1,
   "id": "3052e8de",
   "metadata": {},
   "outputs": [],
   "source": [
    "import pandas as pd\n",
    "import numpy as np"
   ]
  },
  {
   "cell_type": "code",
   "execution_count": 2,
   "id": "649afe58",
   "metadata": {},
   "outputs": [],
   "source": [
    "df_train = pd.read_csv('../../Downloads/cc_train.csv.zip')\n",
    "df_test = pd.read_csv('../../Downloads/cc_test.csv')"
   ]
  },
  {
   "cell_type": "code",
   "execution_count": 3,
   "id": "ac86224e",
   "metadata": {},
   "outputs": [
    {
     "data": {
      "text/html": [
       "<div>\n",
       "<style scoped>\n",
       "    .dataframe tbody tr th:only-of-type {\n",
       "        vertical-align: middle;\n",
       "    }\n",
       "\n",
       "    .dataframe tbody tr th {\n",
       "        vertical-align: top;\n",
       "    }\n",
       "\n",
       "    .dataframe thead th {\n",
       "        text-align: right;\n",
       "    }\n",
       "</style>\n",
       "<table border=\"1\" class=\"dataframe\">\n",
       "  <thead>\n",
       "    <tr style=\"text-align: right;\">\n",
       "      <th></th>\n",
       "      <th>LIMIT_BAL</th>\n",
       "      <th>AGE</th>\n",
       "      <th>PAY_0</th>\n",
       "      <th>PAY_2</th>\n",
       "      <th>PAY_3</th>\n",
       "      <th>PAY_4</th>\n",
       "      <th>PAY_5</th>\n",
       "      <th>PAY_6</th>\n",
       "      <th>BILL_AMT1</th>\n",
       "      <th>BILL_AMT2</th>\n",
       "      <th>...</th>\n",
       "      <th>PAY_AMT2</th>\n",
       "      <th>PAY_AMT3</th>\n",
       "      <th>PAY_AMT4</th>\n",
       "      <th>PAY_AMT5</th>\n",
       "      <th>PAY_AMT6</th>\n",
       "      <th>GENDER</th>\n",
       "      <th>QUALIFICATION</th>\n",
       "      <th>MARRIED</th>\n",
       "      <th>defaulter</th>\n",
       "      <th>Id</th>\n",
       "    </tr>\n",
       "  </thead>\n",
       "  <tbody>\n",
       "    <tr>\n",
       "      <th>0</th>\n",
       "      <td>290000.0</td>\n",
       "      <td>50</td>\n",
       "      <td>-1.0</td>\n",
       "      <td>-1.0</td>\n",
       "      <td>-1.0</td>\n",
       "      <td>-1.0</td>\n",
       "      <td>-1.0</td>\n",
       "      <td>-1.0</td>\n",
       "      <td>NaN</td>\n",
       "      <td>199.0</td>\n",
       "      <td>...</td>\n",
       "      <td>1440.0</td>\n",
       "      <td>1017.0</td>\n",
       "      <td>3798.0</td>\n",
       "      <td>4898</td>\n",
       "      <td>5034.0</td>\n",
       "      <td>FEMALE</td>\n",
       "      <td>2</td>\n",
       "      <td>1.0</td>\n",
       "      <td>0</td>\n",
       "      <td>1</td>\n",
       "    </tr>\n",
       "    <tr>\n",
       "      <th>1</th>\n",
       "      <td>20000.0</td>\n",
       "      <td>49</td>\n",
       "      <td>0.0</td>\n",
       "      <td>0.0</td>\n",
       "      <td>0.0</td>\n",
       "      <td>0.0</td>\n",
       "      <td>NaN</td>\n",
       "      <td>0.0</td>\n",
       "      <td>19773.0</td>\n",
       "      <td>18459.0</td>\n",
       "      <td>...</td>\n",
       "      <td>1270.0</td>\n",
       "      <td>633.0</td>\n",
       "      <td>655.0</td>\n",
       "      <td>759</td>\n",
       "      <td>547.0</td>\n",
       "      <td>FEMALE</td>\n",
       "      <td>2</td>\n",
       "      <td>3.0</td>\n",
       "      <td>1</td>\n",
       "      <td>2</td>\n",
       "    </tr>\n",
       "    <tr>\n",
       "      <th>2</th>\n",
       "      <td>230000.0</td>\n",
       "      <td>28</td>\n",
       "      <td>0.0</td>\n",
       "      <td>0.0</td>\n",
       "      <td>0.0</td>\n",
       "      <td>0.0</td>\n",
       "      <td>0.0</td>\n",
       "      <td>0.0</td>\n",
       "      <td>20356.0</td>\n",
       "      <td>21504.0</td>\n",
       "      <td>...</td>\n",
       "      <td>1700.0</td>\n",
       "      <td>2007.0</td>\n",
       "      <td>1000.0</td>\n",
       "      <td>1000</td>\n",
       "      <td>1000.0</td>\n",
       "      <td>FEMALE</td>\n",
       "      <td>1</td>\n",
       "      <td>2.0</td>\n",
       "      <td>0</td>\n",
       "      <td>3</td>\n",
       "    </tr>\n",
       "    <tr>\n",
       "      <th>3</th>\n",
       "      <td>210000.0</td>\n",
       "      <td>31</td>\n",
       "      <td>-1.0</td>\n",
       "      <td>-1.0</td>\n",
       "      <td>-1.0</td>\n",
       "      <td>-1.0</td>\n",
       "      <td>-1.0</td>\n",
       "      <td>-1.0</td>\n",
       "      <td>8600.0</td>\n",
       "      <td>0.0</td>\n",
       "      <td>...</td>\n",
       "      <td>4231.0</td>\n",
       "      <td>4221.0</td>\n",
       "      <td>4221.0</td>\n",
       "      <td>4483</td>\n",
       "      <td>4300.0</td>\n",
       "      <td>FEMALE</td>\n",
       "      <td>1</td>\n",
       "      <td>1.0</td>\n",
       "      <td>0</td>\n",
       "      <td>4</td>\n",
       "    </tr>\n",
       "    <tr>\n",
       "      <th>4</th>\n",
       "      <td>300000.0</td>\n",
       "      <td>24</td>\n",
       "      <td>-2.0</td>\n",
       "      <td>-2.0</td>\n",
       "      <td>-2.0</td>\n",
       "      <td>-2.0</td>\n",
       "      <td>-1.0</td>\n",
       "      <td>-1.0</td>\n",
       "      <td>-158.0</td>\n",
       "      <td>-158.0</td>\n",
       "      <td>...</td>\n",
       "      <td>0.0</td>\n",
       "      <td>0.0</td>\n",
       "      <td>300.0</td>\n",
       "      <td>100</td>\n",
       "      <td>100.0</td>\n",
       "      <td>MALE</td>\n",
       "      <td>2</td>\n",
       "      <td>2.0</td>\n",
       "      <td>0</td>\n",
       "      <td>5</td>\n",
       "    </tr>\n",
       "  </tbody>\n",
       "</table>\n",
       "<p>5 rows × 25 columns</p>\n",
       "</div>"
      ],
      "text/plain": [
       "   LIMIT_BAL  AGE  PAY_0  PAY_2  PAY_3  PAY_4  PAY_5  PAY_6  BILL_AMT1  \\\n",
       "0   290000.0   50   -1.0   -1.0   -1.0   -1.0   -1.0   -1.0        NaN   \n",
       "1    20000.0   49    0.0    0.0    0.0    0.0    NaN    0.0    19773.0   \n",
       "2   230000.0   28    0.0    0.0    0.0    0.0    0.0    0.0    20356.0   \n",
       "3   210000.0   31   -1.0   -1.0   -1.0   -1.0   -1.0   -1.0     8600.0   \n",
       "4   300000.0   24   -2.0   -2.0   -2.0   -2.0   -1.0   -1.0     -158.0   \n",
       "\n",
       "   BILL_AMT2  ...  PAY_AMT2  PAY_AMT3  PAY_AMT4  PAY_AMT5  PAY_AMT6  GENDER  \\\n",
       "0      199.0  ...    1440.0    1017.0    3798.0      4898    5034.0  FEMALE   \n",
       "1    18459.0  ...    1270.0     633.0     655.0       759     547.0  FEMALE   \n",
       "2    21504.0  ...    1700.0    2007.0    1000.0      1000    1000.0  FEMALE   \n",
       "3        0.0  ...    4231.0    4221.0    4221.0      4483    4300.0  FEMALE   \n",
       "4     -158.0  ...       0.0       0.0     300.0       100     100.0    MALE   \n",
       "\n",
       "   QUALIFICATION  MARRIED  defaulter  Id  \n",
       "0              2      1.0          0   1  \n",
       "1              2      3.0          1   2  \n",
       "2              1      2.0          0   3  \n",
       "3              1      1.0          0   4  \n",
       "4              2      2.0          0   5  \n",
       "\n",
       "[5 rows x 25 columns]"
      ]
     },
     "execution_count": 3,
     "metadata": {},
     "output_type": "execute_result"
    }
   ],
   "source": [
    "df_train.head()"
   ]
  },
  {
   "cell_type": "code",
   "execution_count": 4,
   "id": "f966caa1",
   "metadata": {},
   "outputs": [
    {
     "name": "stdout",
     "output_type": "stream",
     "text": [
      "<class 'pandas.core.frame.DataFrame'>\n",
      "RangeIndex: 20000 entries, 0 to 19999\n",
      "Data columns (total 25 columns):\n",
      " #   Column         Non-Null Count  Dtype  \n",
      "---  ------         --------------  -----  \n",
      " 0   LIMIT_BAL      18700 non-null  float64\n",
      " 1   AGE            20000 non-null  int64  \n",
      " 2   PAY_0          19344 non-null  float64\n",
      " 3   PAY_2          18141 non-null  float64\n",
      " 4   PAY_3          18751 non-null  float64\n",
      " 5   PAY_4          19316 non-null  float64\n",
      " 6   PAY_5          19323 non-null  float64\n",
      " 7   PAY_6          18655 non-null  float64\n",
      " 8   BILL_AMT1      18130 non-null  float64\n",
      " 9   BILL_AMT2      18681 non-null  float64\n",
      " 10  BILL_AMT3      19323 non-null  float64\n",
      " 11  BILL_AMT4      20000 non-null  int64  \n",
      " 12  BILL_AMT5      19318 non-null  float64\n",
      " 13  BILL_AMT6      20000 non-null  int64  \n",
      " 14  PAY_AMT1       18690 non-null  float64\n",
      " 15  PAY_AMT2       18763 non-null  float64\n",
      " 16  PAY_AMT3       18691 non-null  float64\n",
      " 17  PAY_AMT4       19318 non-null  float64\n",
      " 18  PAY_AMT5       20000 non-null  int64  \n",
      " 19  PAY_AMT6       19312 non-null  float64\n",
      " 20  GENDER         20000 non-null  object \n",
      " 21  QUALIFICATION  20000 non-null  int64  \n",
      " 22  MARRIED        18674 non-null  float64\n",
      " 23  defaulter      20000 non-null  int64  \n",
      " 24  Id             20000 non-null  int64  \n",
      "dtypes: float64(17), int64(7), object(1)\n",
      "memory usage: 3.8+ MB\n"
     ]
    }
   ],
   "source": [
    "df_train.info()"
   ]
  },
  {
   "cell_type": "code",
   "execution_count": 5,
   "id": "796b4495",
   "metadata": {},
   "outputs": [
    {
     "data": {
      "text/plain": [
       "LIMIT_BAL        1300\n",
       "AGE                 0\n",
       "PAY_0             656\n",
       "PAY_2            1859\n",
       "PAY_3            1249\n",
       "PAY_4             684\n",
       "PAY_5             677\n",
       "PAY_6            1345\n",
       "BILL_AMT1        1870\n",
       "BILL_AMT2        1319\n",
       "BILL_AMT3         677\n",
       "BILL_AMT4           0\n",
       "BILL_AMT5         682\n",
       "BILL_AMT6           0\n",
       "PAY_AMT1         1310\n",
       "PAY_AMT2         1237\n",
       "PAY_AMT3         1309\n",
       "PAY_AMT4          682\n",
       "PAY_AMT5            0\n",
       "PAY_AMT6          688\n",
       "GENDER              0\n",
       "QUALIFICATION       0\n",
       "MARRIED          1326\n",
       "defaulter           0\n",
       "Id                  0\n",
       "dtype: int64"
      ]
     },
     "execution_count": 5,
     "metadata": {},
     "output_type": "execute_result"
    }
   ],
   "source": [
    "df_train.isna().sum()"
   ]
  },
  {
   "cell_type": "code",
   "execution_count": 6,
   "id": "1fa478d9",
   "metadata": {},
   "outputs": [],
   "source": [
    "columns_numeric = list(df_train.select_dtypes(exclude='object').columns)\n",
    "columns_numeric.remove('defaulter')\n",
    "columns_numeric.remove('Id')\n",
    "\n",
    "#columns_numeric = list(df_test.select_dtypes(exclude='object').columns)"
   ]
  },
  {
   "cell_type": "code",
   "execution_count": 7,
   "id": "6f4cd8e2",
   "metadata": {},
   "outputs": [
    {
     "data": {
      "text/plain": [
       "['LIMIT_BAL',\n",
       " 'AGE',\n",
       " 'PAY_0',\n",
       " 'PAY_2',\n",
       " 'PAY_3',\n",
       " 'PAY_4',\n",
       " 'PAY_5',\n",
       " 'PAY_6',\n",
       " 'BILL_AMT1',\n",
       " 'BILL_AMT2',\n",
       " 'BILL_AMT3',\n",
       " 'BILL_AMT4',\n",
       " 'BILL_AMT5',\n",
       " 'BILL_AMT6',\n",
       " 'PAY_AMT1',\n",
       " 'PAY_AMT2',\n",
       " 'PAY_AMT3',\n",
       " 'PAY_AMT4',\n",
       " 'PAY_AMT5',\n",
       " 'PAY_AMT6',\n",
       " 'QUALIFICATION',\n",
       " 'MARRIED']"
      ]
     },
     "execution_count": 7,
     "metadata": {},
     "output_type": "execute_result"
    }
   ],
   "source": [
    "columns_numeric"
   ]
  },
  {
   "cell_type": "code",
   "execution_count": 8,
   "id": "e9d27abd",
   "metadata": {},
   "outputs": [],
   "source": [
    "# Imputation\n",
    "from sklearn.impute import SimpleImputer\n",
    "\n",
    "imputer_num = SimpleImputer(strategy='mean')\n",
    "imputer_num.fit(df_train[columns_numeric])\n",
    "df_train[columns_numeric] = imputer_num.transform(df_train[columns_numeric])\n",
    "\n",
    "df_test[columns_numeric] = imputer_num.transform(df_test[columns_numeric])\n"
   ]
  },
  {
   "cell_type": "code",
   "execution_count": 9,
   "id": "511f22d3",
   "metadata": {},
   "outputs": [],
   "source": [
    "columns_categorical = list(df_train.select_dtypes(include='object').columns)\n",
    "\n",
    "imputer_cat = SimpleImputer(strategy='most_frequent')\n",
    "imputer_cat.fit(df_train[columns_categorical])\n",
    "df_train[columns_categorical] = imputer_cat.transform(df_train[columns_categorical])\n",
    "\n",
    "df_test[columns_categorical] = imputer_cat.transform(df_test[columns_categorical])\n",
    "\n"
   ]
  },
  {
   "cell_type": "code",
   "execution_count": 10,
   "id": "07671f86",
   "metadata": {},
   "outputs": [],
   "source": [
    "from sklearn.preprocessing import OneHotEncoder\n",
    "\n",
    "ohe = OneHotEncoder(handle_unknown='ignore')\n",
    "ohe.fit(df_train[columns_categorical])\n",
    "temp = pd.DataFrame(data=ohe.transform(df_train[columns_categorical]).toarray(), columns=ohe.get_feature_names())\n",
    "\n",
    "columns_final = columns_numeric + list(ohe.get_feature_names())\n",
    "\n",
    "df_train = pd.concat([df_train, temp], axis=1)\n",
    "\n",
    "\n",
    "temp = pd.DataFrame(data=ohe.transform(df_test[columns_categorical]).toarray(), columns=ohe.get_feature_names())\n",
    "\n",
    "df_test = pd.concat([df_test, temp], axis=1)"
   ]
  },
  {
   "cell_type": "code",
   "execution_count": 11,
   "id": "75f03aee",
   "metadata": {},
   "outputs": [],
   "source": [
    "#scaling\n",
    "\n",
    "from sklearn.preprocessing import MinMaxScaler\n",
    "\n",
    "scaler = MinMaxScaler()\n",
    "scaler.fit(df_train[columns_numeric])\n",
    "df_train[columns_numeric] = scaler.transform(df_train[columns_numeric])\n",
    "\n",
    "df_test[columns_numeric] = scaler.transform(df_test[columns_numeric])\n",
    "\n"
   ]
  },
  {
   "cell_type": "code",
   "execution_count": 12,
   "id": "da0b75c0",
   "metadata": {},
   "outputs": [
    {
     "data": {
      "text/plain": [
       "['LIMIT_BAL',\n",
       " 'AGE',\n",
       " 'PAY_0',\n",
       " 'PAY_2',\n",
       " 'PAY_3',\n",
       " 'PAY_4',\n",
       " 'PAY_5',\n",
       " 'PAY_6',\n",
       " 'BILL_AMT1',\n",
       " 'BILL_AMT2',\n",
       " 'BILL_AMT3',\n",
       " 'BILL_AMT4',\n",
       " 'BILL_AMT5',\n",
       " 'BILL_AMT6',\n",
       " 'PAY_AMT1',\n",
       " 'PAY_AMT2',\n",
       " 'PAY_AMT3',\n",
       " 'PAY_AMT4',\n",
       " 'PAY_AMT5',\n",
       " 'PAY_AMT6',\n",
       " 'QUALIFICATION',\n",
       " 'MARRIED',\n",
       " 'x0_FEMALE',\n",
       " 'x0_MALE']"
      ]
     },
     "execution_count": 12,
     "metadata": {},
     "output_type": "execute_result"
    }
   ],
   "source": [
    "columns_final"
   ]
  },
  {
   "cell_type": "code",
   "execution_count": 13,
   "id": "dbbebc34",
   "metadata": {},
   "outputs": [
    {
     "data": {
      "text/html": [
       "<div>\n",
       "<style scoped>\n",
       "    .dataframe tbody tr th:only-of-type {\n",
       "        vertical-align: middle;\n",
       "    }\n",
       "\n",
       "    .dataframe tbody tr th {\n",
       "        vertical-align: top;\n",
       "    }\n",
       "\n",
       "    .dataframe thead th {\n",
       "        text-align: right;\n",
       "    }\n",
       "</style>\n",
       "<table border=\"1\" class=\"dataframe\">\n",
       "  <thead>\n",
       "    <tr style=\"text-align: right;\">\n",
       "      <th></th>\n",
       "      <th>LIMIT_BAL</th>\n",
       "      <th>AGE</th>\n",
       "      <th>PAY_0</th>\n",
       "      <th>PAY_2</th>\n",
       "      <th>PAY_3</th>\n",
       "      <th>PAY_4</th>\n",
       "      <th>PAY_5</th>\n",
       "      <th>PAY_6</th>\n",
       "      <th>BILL_AMT1</th>\n",
       "      <th>BILL_AMT2</th>\n",
       "      <th>...</th>\n",
       "      <th>PAY_AMT3</th>\n",
       "      <th>PAY_AMT4</th>\n",
       "      <th>PAY_AMT5</th>\n",
       "      <th>PAY_AMT6</th>\n",
       "      <th>GENDER</th>\n",
       "      <th>QUALIFICATION</th>\n",
       "      <th>MARRIED</th>\n",
       "      <th>Id</th>\n",
       "      <th>x0_FEMALE</th>\n",
       "      <th>x0_MALE</th>\n",
       "    </tr>\n",
       "  </thead>\n",
       "  <tbody>\n",
       "    <tr>\n",
       "      <th>0</th>\n",
       "      <td>0.343434</td>\n",
       "      <td>0.232143</td>\n",
       "      <td>0.0</td>\n",
       "      <td>0.000000</td>\n",
       "      <td>0.000000</td>\n",
       "      <td>0.000000</td>\n",
       "      <td>0.000000</td>\n",
       "      <td>0.0</td>\n",
       "      <td>0.016594</td>\n",
       "      <td>0.066791</td>\n",
       "      <td>...</td>\n",
       "      <td>0.000294</td>\n",
       "      <td>0.001702</td>\n",
       "      <td>0.002980</td>\n",
       "      <td>0.010131</td>\n",
       "      <td>FEMALE</td>\n",
       "      <td>0.166667</td>\n",
       "      <td>0.666667</td>\n",
       "      <td>20001</td>\n",
       "      <td>1.0</td>\n",
       "      <td>0.0</td>\n",
       "    </tr>\n",
       "    <tr>\n",
       "      <th>1</th>\n",
       "      <td>0.000000</td>\n",
       "      <td>0.160714</td>\n",
       "      <td>0.2</td>\n",
       "      <td>0.222222</td>\n",
       "      <td>0.200000</td>\n",
       "      <td>0.200000</td>\n",
       "      <td>0.200000</td>\n",
       "      <td>0.2</td>\n",
       "      <td>0.024714</td>\n",
       "      <td>0.072483</td>\n",
       "      <td>...</td>\n",
       "      <td>0.001116</td>\n",
       "      <td>0.001908</td>\n",
       "      <td>0.002345</td>\n",
       "      <td>0.003023</td>\n",
       "      <td>MALE</td>\n",
       "      <td>0.166667</td>\n",
       "      <td>0.666667</td>\n",
       "      <td>20002</td>\n",
       "      <td>0.0</td>\n",
       "      <td>1.0</td>\n",
       "    </tr>\n",
       "    <tr>\n",
       "      <th>2</th>\n",
       "      <td>0.343434</td>\n",
       "      <td>0.285714</td>\n",
       "      <td>0.2</td>\n",
       "      <td>0.222222</td>\n",
       "      <td>0.200000</td>\n",
       "      <td>0.200000</td>\n",
       "      <td>0.200000</td>\n",
       "      <td>0.2</td>\n",
       "      <td>0.109655</td>\n",
       "      <td>0.180427</td>\n",
       "      <td>...</td>\n",
       "      <td>0.005580</td>\n",
       "      <td>0.009100</td>\n",
       "      <td>0.009378</td>\n",
       "      <td>0.009458</td>\n",
       "      <td>MALE</td>\n",
       "      <td>0.166667</td>\n",
       "      <td>0.666667</td>\n",
       "      <td>20003</td>\n",
       "      <td>0.0</td>\n",
       "      <td>1.0</td>\n",
       "    </tr>\n",
       "    <tr>\n",
       "      <th>3</th>\n",
       "      <td>0.010101</td>\n",
       "      <td>0.392857</td>\n",
       "      <td>0.1</td>\n",
       "      <td>0.111111</td>\n",
       "      <td>0.100000</td>\n",
       "      <td>0.000000</td>\n",
       "      <td>0.100000</td>\n",
       "      <td>0.1</td>\n",
       "      <td>0.017588</td>\n",
       "      <td>0.066695</td>\n",
       "      <td>...</td>\n",
       "      <td>0.000000</td>\n",
       "      <td>0.012025</td>\n",
       "      <td>0.026305</td>\n",
       "      <td>0.000000</td>\n",
       "      <td>FEMALE</td>\n",
       "      <td>0.166667</td>\n",
       "      <td>0.333333</td>\n",
       "      <td>20004</td>\n",
       "      <td>1.0</td>\n",
       "      <td>0.0</td>\n",
       "    </tr>\n",
       "    <tr>\n",
       "      <th>4</th>\n",
       "      <td>0.202020</td>\n",
       "      <td>0.375000</td>\n",
       "      <td>0.3</td>\n",
       "      <td>0.111111</td>\n",
       "      <td>0.183142</td>\n",
       "      <td>0.100000</td>\n",
       "      <td>0.100000</td>\n",
       "      <td>0.1</td>\n",
       "      <td>0.015623</td>\n",
       "      <td>0.066837</td>\n",
       "      <td>...</td>\n",
       "      <td>0.000363</td>\n",
       "      <td>0.000614</td>\n",
       "      <td>0.000762</td>\n",
       "      <td>0.000615</td>\n",
       "      <td>MALE</td>\n",
       "      <td>0.333333</td>\n",
       "      <td>0.333333</td>\n",
       "      <td>20005</td>\n",
       "      <td>0.0</td>\n",
       "      <td>1.0</td>\n",
       "    </tr>\n",
       "    <tr>\n",
       "      <th>...</th>\n",
       "      <td>...</td>\n",
       "      <td>...</td>\n",
       "      <td>...</td>\n",
       "      <td>...</td>\n",
       "      <td>...</td>\n",
       "      <td>...</td>\n",
       "      <td>...</td>\n",
       "      <td>...</td>\n",
       "      <td>...</td>\n",
       "      <td>...</td>\n",
       "      <td>...</td>\n",
       "      <td>...</td>\n",
       "      <td>...</td>\n",
       "      <td>...</td>\n",
       "      <td>...</td>\n",
       "      <td>...</td>\n",
       "      <td>...</td>\n",
       "      <td>...</td>\n",
       "      <td>...</td>\n",
       "      <td>...</td>\n",
       "      <td>...</td>\n",
       "    </tr>\n",
       "    <tr>\n",
       "      <th>4995</th>\n",
       "      <td>0.333333</td>\n",
       "      <td>0.232143</td>\n",
       "      <td>0.2</td>\n",
       "      <td>0.206843</td>\n",
       "      <td>0.200000</td>\n",
       "      <td>0.200000</td>\n",
       "      <td>0.200000</td>\n",
       "      <td>0.2</td>\n",
       "      <td>0.210992</td>\n",
       "      <td>0.246858</td>\n",
       "      <td>...</td>\n",
       "      <td>0.006696</td>\n",
       "      <td>0.011344</td>\n",
       "      <td>0.014067</td>\n",
       "      <td>0.009458</td>\n",
       "      <td>MALE</td>\n",
       "      <td>0.166667</td>\n",
       "      <td>0.666667</td>\n",
       "      <td>24996</td>\n",
       "      <td>0.0</td>\n",
       "      <td>1.0</td>\n",
       "    </tr>\n",
       "    <tr>\n",
       "      <th>4996</th>\n",
       "      <td>0.494949</td>\n",
       "      <td>0.196429</td>\n",
       "      <td>0.1</td>\n",
       "      <td>0.111111</td>\n",
       "      <td>0.100000</td>\n",
       "      <td>0.177858</td>\n",
       "      <td>0.200000</td>\n",
       "      <td>0.2</td>\n",
       "      <td>0.032522</td>\n",
       "      <td>0.076658</td>\n",
       "      <td>...</td>\n",
       "      <td>0.010350</td>\n",
       "      <td>0.007563</td>\n",
       "      <td>0.011723</td>\n",
       "      <td>0.101989</td>\n",
       "      <td>FEMALE</td>\n",
       "      <td>0.166667</td>\n",
       "      <td>0.666667</td>\n",
       "      <td>24997</td>\n",
       "      <td>1.0</td>\n",
       "      <td>0.0</td>\n",
       "    </tr>\n",
       "    <tr>\n",
       "      <th>4997</th>\n",
       "      <td>0.191919</td>\n",
       "      <td>0.410714</td>\n",
       "      <td>0.4</td>\n",
       "      <td>0.444444</td>\n",
       "      <td>0.400000</td>\n",
       "      <td>0.400000</td>\n",
       "      <td>0.173074</td>\n",
       "      <td>0.4</td>\n",
       "      <td>0.187378</td>\n",
       "      <td>0.229454</td>\n",
       "      <td>...</td>\n",
       "      <td>0.007812</td>\n",
       "      <td>0.012479</td>\n",
       "      <td>0.016412</td>\n",
       "      <td>0.013430</td>\n",
       "      <td>MALE</td>\n",
       "      <td>0.166667</td>\n",
       "      <td>0.333333</td>\n",
       "      <td>24998</td>\n",
       "      <td>0.0</td>\n",
       "      <td>1.0</td>\n",
       "    </tr>\n",
       "    <tr>\n",
       "      <th>4998</th>\n",
       "      <td>0.343434</td>\n",
       "      <td>0.321429</td>\n",
       "      <td>0.0</td>\n",
       "      <td>0.000000</td>\n",
       "      <td>0.000000</td>\n",
       "      <td>0.000000</td>\n",
       "      <td>0.000000</td>\n",
       "      <td>0.0</td>\n",
       "      <td>0.021936</td>\n",
       "      <td>0.092623</td>\n",
       "      <td>...</td>\n",
       "      <td>0.037969</td>\n",
       "      <td>0.037815</td>\n",
       "      <td>0.275831</td>\n",
       "      <td>0.140138</td>\n",
       "      <td>FEMALE</td>\n",
       "      <td>0.166667</td>\n",
       "      <td>0.333333</td>\n",
       "      <td>24999</td>\n",
       "      <td>1.0</td>\n",
       "      <td>0.0</td>\n",
       "    </tr>\n",
       "    <tr>\n",
       "      <th>4999</th>\n",
       "      <td>0.191919</td>\n",
       "      <td>0.160714</td>\n",
       "      <td>0.2</td>\n",
       "      <td>0.206843</td>\n",
       "      <td>0.200000</td>\n",
       "      <td>0.200000</td>\n",
       "      <td>0.200000</td>\n",
       "      <td>0.2</td>\n",
       "      <td>0.086230</td>\n",
       "      <td>0.132522</td>\n",
       "      <td>...</td>\n",
       "      <td>0.001674</td>\n",
       "      <td>0.000945</td>\n",
       "      <td>0.002345</td>\n",
       "      <td>0.207288</td>\n",
       "      <td>MALE</td>\n",
       "      <td>0.333333</td>\n",
       "      <td>0.666667</td>\n",
       "      <td>25000</td>\n",
       "      <td>0.0</td>\n",
       "      <td>1.0</td>\n",
       "    </tr>\n",
       "  </tbody>\n",
       "</table>\n",
       "<p>5000 rows × 26 columns</p>\n",
       "</div>"
      ],
      "text/plain": [
       "      LIMIT_BAL       AGE  PAY_0     PAY_2     PAY_3     PAY_4     PAY_5  \\\n",
       "0      0.343434  0.232143    0.0  0.000000  0.000000  0.000000  0.000000   \n",
       "1      0.000000  0.160714    0.2  0.222222  0.200000  0.200000  0.200000   \n",
       "2      0.343434  0.285714    0.2  0.222222  0.200000  0.200000  0.200000   \n",
       "3      0.010101  0.392857    0.1  0.111111  0.100000  0.000000  0.100000   \n",
       "4      0.202020  0.375000    0.3  0.111111  0.183142  0.100000  0.100000   \n",
       "...         ...       ...    ...       ...       ...       ...       ...   \n",
       "4995   0.333333  0.232143    0.2  0.206843  0.200000  0.200000  0.200000   \n",
       "4996   0.494949  0.196429    0.1  0.111111  0.100000  0.177858  0.200000   \n",
       "4997   0.191919  0.410714    0.4  0.444444  0.400000  0.400000  0.173074   \n",
       "4998   0.343434  0.321429    0.0  0.000000  0.000000  0.000000  0.000000   \n",
       "4999   0.191919  0.160714    0.2  0.206843  0.200000  0.200000  0.200000   \n",
       "\n",
       "      PAY_6  BILL_AMT1  BILL_AMT2  ...  PAY_AMT3  PAY_AMT4  PAY_AMT5  \\\n",
       "0       0.0   0.016594   0.066791  ...  0.000294  0.001702  0.002980   \n",
       "1       0.2   0.024714   0.072483  ...  0.001116  0.001908  0.002345   \n",
       "2       0.2   0.109655   0.180427  ...  0.005580  0.009100  0.009378   \n",
       "3       0.1   0.017588   0.066695  ...  0.000000  0.012025  0.026305   \n",
       "4       0.1   0.015623   0.066837  ...  0.000363  0.000614  0.000762   \n",
       "...     ...        ...        ...  ...       ...       ...       ...   \n",
       "4995    0.2   0.210992   0.246858  ...  0.006696  0.011344  0.014067   \n",
       "4996    0.2   0.032522   0.076658  ...  0.010350  0.007563  0.011723   \n",
       "4997    0.4   0.187378   0.229454  ...  0.007812  0.012479  0.016412   \n",
       "4998    0.0   0.021936   0.092623  ...  0.037969  0.037815  0.275831   \n",
       "4999    0.2   0.086230   0.132522  ...  0.001674  0.000945  0.002345   \n",
       "\n",
       "      PAY_AMT6  GENDER  QUALIFICATION   MARRIED     Id  x0_FEMALE  x0_MALE  \n",
       "0     0.010131  FEMALE       0.166667  0.666667  20001        1.0      0.0  \n",
       "1     0.003023    MALE       0.166667  0.666667  20002        0.0      1.0  \n",
       "2     0.009458    MALE       0.166667  0.666667  20003        0.0      1.0  \n",
       "3     0.000000  FEMALE       0.166667  0.333333  20004        1.0      0.0  \n",
       "4     0.000615    MALE       0.333333  0.333333  20005        0.0      1.0  \n",
       "...        ...     ...            ...       ...    ...        ...      ...  \n",
       "4995  0.009458    MALE       0.166667  0.666667  24996        0.0      1.0  \n",
       "4996  0.101989  FEMALE       0.166667  0.666667  24997        1.0      0.0  \n",
       "4997  0.013430    MALE       0.166667  0.333333  24998        0.0      1.0  \n",
       "4998  0.140138  FEMALE       0.166667  0.333333  24999        1.0      0.0  \n",
       "4999  0.207288    MALE       0.333333  0.666667  25000        0.0      1.0  \n",
       "\n",
       "[5000 rows x 26 columns]"
      ]
     },
     "execution_count": 13,
     "metadata": {},
     "output_type": "execute_result"
    }
   ],
   "source": [
    "df_test"
   ]
  },
  {
   "cell_type": "code",
   "execution_count": 14,
   "id": "154f33e4",
   "metadata": {},
   "outputs": [
    {
     "data": {
      "text/plain": [
       "LIMIT_BAL       -0.148857\n",
       "AGE              0.006791\n",
       "PAY_0            0.314856\n",
       "PAY_2            0.249364\n",
       "PAY_3            0.226213\n",
       "PAY_4            0.211096\n",
       "PAY_5            0.199007\n",
       "PAY_6            0.176515\n",
       "BILL_AMT1       -0.023935\n",
       "BILL_AMT2       -0.025985\n",
       "BILL_AMT3       -0.022905\n",
       "BILL_AMT4       -0.020788\n",
       "BILL_AMT5       -0.019400\n",
       "BILL_AMT6       -0.018142\n",
       "PAY_AMT1        -0.074846\n",
       "PAY_AMT2        -0.058260\n",
       "PAY_AMT3        -0.052440\n",
       "PAY_AMT4        -0.061143\n",
       "PAY_AMT5        -0.055519\n",
       "PAY_AMT6        -0.056235\n",
       "QUALIFICATION    0.030473\n",
       "MARRIED         -0.023324\n",
       "defaulter        1.000000\n",
       "Id               0.006318\n",
       "x0_FEMALE       -0.043314\n",
       "x0_MALE          0.043314\n",
       "Name: defaulter, dtype: float64"
      ]
     },
     "execution_count": 14,
     "metadata": {},
     "output_type": "execute_result"
    }
   ],
   "source": [
    "df_train.corr()['defaulter']"
   ]
  },
  {
   "cell_type": "code",
   "execution_count": 15,
   "id": "cb359645",
   "metadata": {},
   "outputs": [],
   "source": [
    "X = df_train[columns_final]\n",
    "y = df_train['defaulter']"
   ]
  },
  {
   "cell_type": "markdown",
   "id": "484ff25c",
   "metadata": {},
   "source": [
    "# model building"
   ]
  },
  {
   "cell_type": "code",
   "execution_count": 16,
   "id": "73642988",
   "metadata": {},
   "outputs": [
    {
     "name": "stderr",
     "output_type": "stream",
     "text": [
      "C:\\Users\\kulas\\anaconda3\\lib\\site-packages\\sklearn\\linear_model\\_logistic.py:763: ConvergenceWarning: lbfgs failed to converge (status=1):\n",
      "STOP: TOTAL NO. of ITERATIONS REACHED LIMIT.\n",
      "\n",
      "Increase the number of iterations (max_iter) or scale the data as shown in:\n",
      "    https://scikit-learn.org/stable/modules/preprocessing.html\n",
      "Please also refer to the documentation for alternative solver options:\n",
      "    https://scikit-learn.org/stable/modules/linear_model.html#logistic-regression\n",
      "  n_iter_i = _check_optimize_result(\n"
     ]
    },
    {
     "data": {
      "text/plain": [
       "LogisticRegression()"
      ]
     },
     "execution_count": 16,
     "metadata": {},
     "output_type": "execute_result"
    }
   ],
   "source": [
    "# LogReg\n",
    "\n",
    "from sklearn.linear_model import LogisticRegression\n",
    "\n",
    "model = LogisticRegression()\n",
    "model.fit(X,y)"
   ]
  },
  {
   "cell_type": "code",
   "execution_count": 17,
   "id": "23518efe",
   "metadata": {},
   "outputs": [
    {
     "data": {
      "text/plain": [
       "0.80495"
      ]
     },
     "execution_count": 17,
     "metadata": {},
     "output_type": "execute_result"
    }
   ],
   "source": [
    "model.score(X,y)"
   ]
  },
  {
   "cell_type": "code",
   "execution_count": 18,
   "id": "a5b65649",
   "metadata": {},
   "outputs": [
    {
     "data": {
      "text/plain": [
       "KNeighborsClassifier()"
      ]
     },
     "execution_count": 18,
     "metadata": {},
     "output_type": "execute_result"
    }
   ],
   "source": [
    "#KNN\n",
    "\n",
    "from sklearn.neighbors import KNeighborsClassifier\n",
    "\n",
    "model = KNeighborsClassifier(n_neighbors=5)\n",
    "model.fit(X,y)"
   ]
  },
  {
   "cell_type": "code",
   "execution_count": 19,
   "id": "23f9aaee",
   "metadata": {},
   "outputs": [
    {
     "data": {
      "text/plain": [
       "0.8409"
      ]
     },
     "execution_count": 19,
     "metadata": {},
     "output_type": "execute_result"
    }
   ],
   "source": [
    "model.score(X,y)"
   ]
  },
  {
   "cell_type": "code",
   "execution_count": 20,
   "id": "8cd466fd",
   "metadata": {},
   "outputs": [
    {
     "data": {
      "text/plain": [
       "array([0, 0, 0, ..., 1, 0, 0], dtype=int64)"
      ]
     },
     "execution_count": 20,
     "metadata": {},
     "output_type": "execute_result"
    }
   ],
   "source": [
    "yp = model.predict(df_test[columns_final])\n",
    "yp\n"
   ]
  },
  {
   "cell_type": "code",
   "execution_count": 21,
   "id": "67754bd9",
   "metadata": {},
   "outputs": [],
   "source": [
    "df_submission = pd.DataFrame({'Id':df_test['Id'], 'defaulter':yp})"
   ]
  },
  {
   "cell_type": "code",
   "execution_count": 22,
   "id": "828f96b4",
   "metadata": {},
   "outputs": [],
   "source": [
    "df_submission.to_csv('KNN_model.csv', index=False)"
   ]
  },
  {
   "cell_type": "code",
   "execution_count": 23,
   "id": "10419a74",
   "metadata": {},
   "outputs": [
    {
     "data": {
      "text/plain": [
       "DecisionTreeClassifier(max_depth=5, min_samples_leaf=4)"
      ]
     },
     "execution_count": 23,
     "metadata": {},
     "output_type": "execute_result"
    }
   ],
   "source": [
    "#DT\n",
    "\n",
    "from sklearn.tree import DecisionTreeClassifier\n",
    "\n",
    "model = DecisionTreeClassifier(max_depth=5, min_samples_leaf=4)\n",
    "model.fit(X, y)"
   ]
  },
  {
   "cell_type": "code",
   "execution_count": 24,
   "id": "ae7a568d",
   "metadata": {},
   "outputs": [
    {
     "name": "stdout",
     "output_type": "stream",
     "text": [
      "Depth: 1 Samples at leaf: 1 Train Acc: 0.82\n",
      "Depth: 1 Samples at leaf: 2 Train Acc: 0.82\n",
      "Depth: 1 Samples at leaf: 3 Train Acc: 0.82\n",
      "Depth: 1 Samples at leaf: 4 Train Acc: 0.82\n",
      "Depth: 2 Samples at leaf: 1 Train Acc: 0.82\n",
      "Depth: 2 Samples at leaf: 2 Train Acc: 0.82\n",
      "Depth: 2 Samples at leaf: 3 Train Acc: 0.82\n",
      "Depth: 2 Samples at leaf: 4 Train Acc: 0.82\n",
      "Depth: 3 Samples at leaf: 1 Train Acc: 0.82\n",
      "Depth: 3 Samples at leaf: 2 Train Acc: 0.82\n",
      "Depth: 3 Samples at leaf: 3 Train Acc: 0.82\n",
      "Depth: 3 Samples at leaf: 4 Train Acc: 0.82\n",
      "Depth: 4 Samples at leaf: 1 Train Acc: 0.82\n",
      "Depth: 4 Samples at leaf: 2 Train Acc: 0.82\n",
      "Depth: 4 Samples at leaf: 3 Train Acc: 0.82\n",
      "Depth: 4 Samples at leaf: 4 Train Acc: 0.82\n",
      "Depth: 5 Samples at leaf: 1 Train Acc: 0.82\n",
      "Depth: 5 Samples at leaf: 2 Train Acc: 0.82\n",
      "Depth: 5 Samples at leaf: 3 Train Acc: 0.82\n",
      "Depth: 5 Samples at leaf: 4 Train Acc: 0.82\n"
     ]
    }
   ],
   "source": [
    "depths = [1,2,3,4,5]\n",
    "samples = [1,2,3,4]\n",
    "for d in depths:\n",
    "    for s in samples:\n",
    "        model = DecisionTreeClassifier(max_depth=d, min_samples_leaf=s)\n",
    "        model.fit(X,y)\n",
    "        train_score = round(model.score(X,y),2)\n",
    "        print('Depth:', d,'Samples at leaf:', s, 'Train Acc:',train_score)"
   ]
  },
  {
   "cell_type": "code",
   "execution_count": 25,
   "id": "afb902cb",
   "metadata": {},
   "outputs": [
    {
     "data": {
      "text/plain": [
       "0.8228"
      ]
     },
     "execution_count": 25,
     "metadata": {},
     "output_type": "execute_result"
    }
   ],
   "source": [
    "model.score(X,y)"
   ]
  },
  {
   "cell_type": "code",
   "execution_count": 26,
   "id": "f466635d",
   "metadata": {},
   "outputs": [
    {
     "data": {
      "text/plain": [
       "RandomForestClassifier(n_estimators=200)"
      ]
     },
     "execution_count": 26,
     "metadata": {},
     "output_type": "execute_result"
    }
   ],
   "source": [
    "#RF\n",
    "\n",
    "from sklearn.ensemble import RandomForestClassifier\n",
    "\n",
    "model = RandomForestClassifier(n_estimators=200)\n",
    "model.fit(X,y)"
   ]
  },
  {
   "cell_type": "code",
   "execution_count": 27,
   "id": "c5866081",
   "metadata": {},
   "outputs": [
    {
     "data": {
      "text/plain": [
       "0.99995"
      ]
     },
     "execution_count": 27,
     "metadata": {},
     "output_type": "execute_result"
    }
   ],
   "source": [
    "model.score(X,y)"
   ]
  },
  {
   "cell_type": "code",
   "execution_count": 28,
   "id": "1d550bda",
   "metadata": {},
   "outputs": [],
   "source": [
    "df_submission = pd.DataFrame({'Id':df_test['Id'], 'defaulter':yp})\n",
    "df_submission.to_csv('RF_model.csv', index=False)"
   ]
  },
  {
   "cell_type": "code",
   "execution_count": null,
   "id": "ae6dd274",
   "metadata": {},
   "outputs": [],
   "source": []
  }
 ],
 "metadata": {
  "kernelspec": {
   "display_name": "Python 3",
   "language": "python",
   "name": "python3"
  },
  "language_info": {
   "codemirror_mode": {
    "name": "ipython",
    "version": 3
   },
   "file_extension": ".py",
   "mimetype": "text/x-python",
   "name": "python",
   "nbconvert_exporter": "python",
   "pygments_lexer": "ipython3",
   "version": "3.8.8"
  }
 },
 "nbformat": 4,
 "nbformat_minor": 5
}
